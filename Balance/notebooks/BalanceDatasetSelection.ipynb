{
 "cells": [
  {
   "cell_type": "markdown",
   "metadata": {},
   "source": [
    "# Balance dataset: selection of trials\n",
    "\n",
    "Marcos Duarte"
   ]
  },
  {
   "cell_type": "markdown",
   "metadata": {},
   "source": [
    "Let's see how to select data from the Balance dataset, a public data set of quantitative and qualitative evaluations. See the companiom data set website [http://demotu.org/datasets/balance/](http://demotu.org/datasets/balance/) for more information.\n",
    "\n",
    "We will use the power of python and its libraries to handle the data, particularly the [pandas](http://pandas.pydata.org/) library for handling labeled data, [Seaborn](https://stanford.edu/~mwaskom/software/seaborn/) for plotting, and [Jupyter Notebook](http://jupyter.org/) as the web application for running all the code and the GUI widgets.\n",
    "\n",
    "First, let's import the necessary Python libraries and configure the environment:"
   ]
  },
  {
   "cell_type": "code",
   "execution_count": 1,
   "metadata": {
    "collapsed": false
   },
   "outputs": [],
   "source": [
    "import numpy as np\n",
    "import pandas as pd\n",
    "pd.set_option('precision', 2)\n",
    "import matplotlib\n",
    "import matplotlib.pyplot as plt\n",
    "import matplotlib.gridspec as gridspec\n",
    "%matplotlib inline\n",
    "import seaborn as sns\n",
    "sns.set_context(\"notebook\", font_scale=1.4,\n",
    "                rc={'font.size': 14, 'lines.linewidth': 2, 'lines.markersize': 10, 'axes.titlesize': 'x-large'})\n",
    "sns.set_style(\"whitegrid\")\n",
    "import glob\n",
    "import sys, os\n",
    "sys.path.insert(1, r'./../functions')\n",
    "\n",
    "# IPython widgets:\n",
    "from IPython.display import display\n",
    "import ipywidgets\n",
    "from ipywidgets import FloatProgress, interactive\n",
    "\n",
    "import qgrid  # pip install git+https://github.com/quantopian/qgrid\n",
    "#qgrid.nbinstall(overwrite=True)  # copies javascript dependencies to /nbextensions folder\n",
    "qgrid.set_defaults(remote_js=True, precision=2)  # Set default options by calling \"set_defaults\" (optional)"
   ]
  },
  {
   "cell_type": "markdown",
   "metadata": {},
   "source": [
    "## Load the metadata about the Balance dataset\n",
    "\n",
    "The metadata of the Balance dataset are stored in ASCII files. See [http://demotu.org/datasets/balance/](http://demotu.org/datasets/balance/) for more information"
   ]
  },
  {
   "cell_type": "code",
   "execution_count": 4,
   "metadata": {
    "collapsed": false
   },
   "outputs": [
    {
     "name": "stdout",
     "output_type": "stream",
     "text": [
      "Information of 163 subjects loaded (1930 rows, 67 columns).\n"
     ]
    }
   ],
   "source": [
    "# read file with all metadata and COP variables from the GitHub repo:\n",
    "fname = 'https://raw.githubusercontent.com/demotu/datasets/master/Balance/BDSinfoCOP.txt'\n",
    "path = r'./../../../X/BDB/'\n",
    "fname = os.path.join(path, 'BDSinfoCOP.txt')\n",
    "BDSinfo = pd.read_csv(fname, sep='\\t', header=0, index_col=None, engine='c', encoding='utf-8')\n",
    "print(\"Information of %s subjects loaded (%s rows, %s columns).\"\n",
    "      %(len(pd.unique(BDSinfo.Subject)), BDSinfo.shape[0], BDSinfo.shape[1]))"
   ]
  },
  {
   "cell_type": "markdown",
   "metadata": {},
   "source": [
    "Here are the first 10 columns of the data:"
   ]
  },
  {
   "cell_type": "code",
   "execution_count": 5,
   "metadata": {
    "collapsed": false
   },
   "outputs": [
    {
     "data": {
      "text/html": [
       "<div>\n",
       "<table border=\"1\" class=\"dataframe\">\n",
       "  <thead>\n",
       "    <tr style=\"text-align: right;\">\n",
       "      <th></th>\n",
       "      <th>Trial</th>\n",
       "      <th>Subject</th>\n",
       "      <th>Vision</th>\n",
       "      <th>Surface</th>\n",
       "      <th>Age</th>\n",
       "      <th>AgeGroup</th>\n",
       "      <th>Gender</th>\n",
       "      <th>Height</th>\n",
       "      <th>Weight</th>\n",
       "      <th>BMI</th>\n",
       "    </tr>\n",
       "  </thead>\n",
       "  <tbody>\n",
       "    <tr>\n",
       "      <th>0</th>\n",
       "      <td>BDS00001</td>\n",
       "      <td>1</td>\n",
       "      <td>Open</td>\n",
       "      <td>Firm</td>\n",
       "      <td>33.00</td>\n",
       "      <td>Young</td>\n",
       "      <td>F</td>\n",
       "      <td>157.5</td>\n",
       "      <td>54.2</td>\n",
       "      <td>21.85</td>\n",
       "    </tr>\n",
       "    <tr>\n",
       "      <th>1</th>\n",
       "      <td>BDS00002</td>\n",
       "      <td>1</td>\n",
       "      <td>Open</td>\n",
       "      <td>Firm</td>\n",
       "      <td>33.00</td>\n",
       "      <td>Young</td>\n",
       "      <td>F</td>\n",
       "      <td>157.5</td>\n",
       "      <td>54.2</td>\n",
       "      <td>21.85</td>\n",
       "    </tr>\n",
       "    <tr>\n",
       "      <th>2</th>\n",
       "      <td>BDS00003</td>\n",
       "      <td>1</td>\n",
       "      <td>Open</td>\n",
       "      <td>Firm</td>\n",
       "      <td>33.00</td>\n",
       "      <td>Young</td>\n",
       "      <td>F</td>\n",
       "      <td>157.5</td>\n",
       "      <td>54.2</td>\n",
       "      <td>21.85</td>\n",
       "    </tr>\n",
       "    <tr>\n",
       "      <th>3</th>\n",
       "      <td>BDS00004</td>\n",
       "      <td>1</td>\n",
       "      <td>Closed</td>\n",
       "      <td>Firm</td>\n",
       "      <td>33.00</td>\n",
       "      <td>Young</td>\n",
       "      <td>F</td>\n",
       "      <td>157.5</td>\n",
       "      <td>54.2</td>\n",
       "      <td>21.85</td>\n",
       "    </tr>\n",
       "    <tr>\n",
       "      <th>4</th>\n",
       "      <td>BDS00005</td>\n",
       "      <td>1</td>\n",
       "      <td>Closed</td>\n",
       "      <td>Firm</td>\n",
       "      <td>33.00</td>\n",
       "      <td>Young</td>\n",
       "      <td>F</td>\n",
       "      <td>157.5</td>\n",
       "      <td>54.2</td>\n",
       "      <td>21.85</td>\n",
       "    </tr>\n",
       "    <tr>\n",
       "      <th>5</th>\n",
       "      <td>BDS00006</td>\n",
       "      <td>1</td>\n",
       "      <td>Closed</td>\n",
       "      <td>Firm</td>\n",
       "      <td>33.00</td>\n",
       "      <td>Young</td>\n",
       "      <td>F</td>\n",
       "      <td>157.5</td>\n",
       "      <td>54.2</td>\n",
       "      <td>21.85</td>\n",
       "    </tr>\n",
       "    <tr>\n",
       "      <th>6</th>\n",
       "      <td>BDS00007</td>\n",
       "      <td>1</td>\n",
       "      <td>Open</td>\n",
       "      <td>Foam</td>\n",
       "      <td>33.00</td>\n",
       "      <td>Young</td>\n",
       "      <td>F</td>\n",
       "      <td>157.5</td>\n",
       "      <td>54.2</td>\n",
       "      <td>21.85</td>\n",
       "    </tr>\n",
       "    <tr>\n",
       "      <th>7</th>\n",
       "      <td>BDS00008</td>\n",
       "      <td>1</td>\n",
       "      <td>Open</td>\n",
       "      <td>Foam</td>\n",
       "      <td>33.00</td>\n",
       "      <td>Young</td>\n",
       "      <td>F</td>\n",
       "      <td>157.5</td>\n",
       "      <td>54.2</td>\n",
       "      <td>21.85</td>\n",
       "    </tr>\n",
       "    <tr>\n",
       "      <th>8</th>\n",
       "      <td>BDS00009</td>\n",
       "      <td>1</td>\n",
       "      <td>Open</td>\n",
       "      <td>Foam</td>\n",
       "      <td>33.00</td>\n",
       "      <td>Young</td>\n",
       "      <td>F</td>\n",
       "      <td>157.5</td>\n",
       "      <td>54.2</td>\n",
       "      <td>21.85</td>\n",
       "    </tr>\n",
       "    <tr>\n",
       "      <th>9</th>\n",
       "      <td>BDS00010</td>\n",
       "      <td>1</td>\n",
       "      <td>Closed</td>\n",
       "      <td>Foam</td>\n",
       "      <td>33.00</td>\n",
       "      <td>Young</td>\n",
       "      <td>F</td>\n",
       "      <td>157.5</td>\n",
       "      <td>54.2</td>\n",
       "      <td>21.85</td>\n",
       "    </tr>\n",
       "    <tr>\n",
       "      <th>10</th>\n",
       "      <td>BDS00011</td>\n",
       "      <td>1</td>\n",
       "      <td>Closed</td>\n",
       "      <td>Foam</td>\n",
       "      <td>33.00</td>\n",
       "      <td>Young</td>\n",
       "      <td>F</td>\n",
       "      <td>157.5</td>\n",
       "      <td>54.2</td>\n",
       "      <td>21.85</td>\n",
       "    </tr>\n",
       "    <tr>\n",
       "      <th>11</th>\n",
       "      <td>BDS00012</td>\n",
       "      <td>1</td>\n",
       "      <td>Closed</td>\n",
       "      <td>Foam</td>\n",
       "      <td>33.00</td>\n",
       "      <td>Young</td>\n",
       "      <td>F</td>\n",
       "      <td>157.5</td>\n",
       "      <td>54.2</td>\n",
       "      <td>21.85</td>\n",
       "    </tr>\n",
       "    <tr>\n",
       "      <th>12</th>\n",
       "      <td>BDS00013</td>\n",
       "      <td>2</td>\n",
       "      <td>Open</td>\n",
       "      <td>Firm</td>\n",
       "      <td>27.58</td>\n",
       "      <td>Young</td>\n",
       "      <td>F</td>\n",
       "      <td>154.0</td>\n",
       "      <td>44.0</td>\n",
       "      <td>18.55</td>\n",
       "    </tr>\n",
       "    <tr>\n",
       "      <th>13</th>\n",
       "      <td>BDS00014</td>\n",
       "      <td>2</td>\n",
       "      <td>Open</td>\n",
       "      <td>Firm</td>\n",
       "      <td>27.58</td>\n",
       "      <td>Young</td>\n",
       "      <td>F</td>\n",
       "      <td>154.0</td>\n",
       "      <td>44.0</td>\n",
       "      <td>18.55</td>\n",
       "    </tr>\n",
       "    <tr>\n",
       "      <th>14</th>\n",
       "      <td>BDS00015</td>\n",
       "      <td>2</td>\n",
       "      <td>Open</td>\n",
       "      <td>Firm</td>\n",
       "      <td>27.58</td>\n",
       "      <td>Young</td>\n",
       "      <td>F</td>\n",
       "      <td>154.0</td>\n",
       "      <td>44.0</td>\n",
       "      <td>18.55</td>\n",
       "    </tr>\n",
       "  </tbody>\n",
       "</table>\n",
       "</div>"
      ],
      "text/plain": [
       "       Trial  Subject  Vision Surface    Age AgeGroup Gender  Height  Weight  \\\n",
       "0   BDS00001        1    Open    Firm  33.00    Young      F   157.5    54.2   \n",
       "1   BDS00002        1    Open    Firm  33.00    Young      F   157.5    54.2   \n",
       "2   BDS00003        1    Open    Firm  33.00    Young      F   157.5    54.2   \n",
       "3   BDS00004        1  Closed    Firm  33.00    Young      F   157.5    54.2   \n",
       "4   BDS00005        1  Closed    Firm  33.00    Young      F   157.5    54.2   \n",
       "5   BDS00006        1  Closed    Firm  33.00    Young      F   157.5    54.2   \n",
       "6   BDS00007        1    Open    Foam  33.00    Young      F   157.5    54.2   \n",
       "7   BDS00008        1    Open    Foam  33.00    Young      F   157.5    54.2   \n",
       "8   BDS00009        1    Open    Foam  33.00    Young      F   157.5    54.2   \n",
       "9   BDS00010        1  Closed    Foam  33.00    Young      F   157.5    54.2   \n",
       "10  BDS00011        1  Closed    Foam  33.00    Young      F   157.5    54.2   \n",
       "11  BDS00012        1  Closed    Foam  33.00    Young      F   157.5    54.2   \n",
       "12  BDS00013        2    Open    Firm  27.58    Young      F   154.0    44.0   \n",
       "13  BDS00014        2    Open    Firm  27.58    Young      F   154.0    44.0   \n",
       "14  BDS00015        2    Open    Firm  27.58    Young      F   154.0    44.0   \n",
       "\n",
       "      BMI  \n",
       "0   21.85  \n",
       "1   21.85  \n",
       "2   21.85  \n",
       "3   21.85  \n",
       "4   21.85  \n",
       "5   21.85  \n",
       "6   21.85  \n",
       "7   21.85  \n",
       "8   21.85  \n",
       "9   21.85  \n",
       "10  21.85  \n",
       "11  21.85  \n",
       "12  18.55  \n",
       "13  18.55  \n",
       "14  18.55  "
      ]
     },
     "execution_count": 5,
     "metadata": {},
     "output_type": "execute_result"
    }
   ],
   "source": [
    "BDSinfo.iloc[:15, :10]\n",
    "# or use the nice qgrid library:\n",
    "#qgrid.show_grid(BDSinfo.iloc[:, :10])"
   ]
  },
  {
   "cell_type": "markdown",
   "metadata": {},
   "source": [
    "## Data selection\n",
    "\n",
    "Here are examples of how to select part of the data using pandas (see http://pandas.pydata.org/pandas-docs/stable/indexing.html):"
   ]
  },
  {
   "cell_type": "code",
   "execution_count": 6,
   "metadata": {
    "collapsed": false
   },
   "outputs": [
    {
     "name": "stdout",
     "output_type": "stream",
     "text": [
      "There are 12 trials for subject 100\n",
      "There are 969 trials for the \"Open\" visual condition.\n",
      "There are 672 trials satisfying the criteria AgeGroup = \"Young\" and Gender = \"F\".\n"
     ]
    }
   ],
   "source": [
    "# Select data from a single subject:\n",
    "data = BDSinfo[BDSinfo.Subject==100]\n",
    "print('There are %d trials for subject 100' %data.shape[0])\n",
    "# Select data from a single condition:\n",
    "data = BDSinfo[BDSinfo.Vision=='Open']\n",
    "print('There are %d trials for the \"Open\" visual condition.' %data.shape[0])\n",
    "# Select data based on multiple criteria:\n",
    "criteria = (BDSinfo.AgeGroup=='Young') & (BDSinfo.Gender=='F')\n",
    "data = BDSinfo[criteria]\n",
    "print('There are %d trials satisfying the criteria AgeGroup = \"Young\" and Gender = \"F\".' %data.shape[0])"
   ]
  },
  {
   "cell_type": "markdown",
   "metadata": {},
   "source": [
    "We can calculate summary statistics for the selected data, for example:"
   ]
  },
  {
   "cell_type": "code",
   "execution_count": 7,
   "metadata": {
    "collapsed": false
   },
   "outputs": [
    {
     "name": "stdout",
     "output_type": "stream",
     "text": [
      "Mean and standard-deviation values of the COParea and COPvelo variables for the young adults without disability:\n"
     ]
    },
    {
     "data": {
      "text/html": [
       "<div>\n",
       "<table border=\"1\" class=\"dataframe\">\n",
       "  <thead>\n",
       "    <tr>\n",
       "      <th></th>\n",
       "      <th></th>\n",
       "      <th colspan=\"2\" halign=\"left\">COParea</th>\n",
       "      <th colspan=\"2\" halign=\"left\">COPvelo</th>\n",
       "    </tr>\n",
       "    <tr>\n",
       "      <th></th>\n",
       "      <th></th>\n",
       "      <th>mean</th>\n",
       "      <th>std</th>\n",
       "      <th>mean</th>\n",
       "      <th>std</th>\n",
       "    </tr>\n",
       "    <tr>\n",
       "      <th>Vision</th>\n",
       "      <th>Surface</th>\n",
       "      <th></th>\n",
       "      <th></th>\n",
       "      <th></th>\n",
       "      <th></th>\n",
       "    </tr>\n",
       "  </thead>\n",
       "  <tbody>\n",
       "    <tr>\n",
       "      <th rowspan=\"2\" valign=\"top\">Closed</th>\n",
       "      <th>Firm</th>\n",
       "      <td>2.92</td>\n",
       "      <td>2.94</td>\n",
       "      <td>0.96</td>\n",
       "      <td>0.39</td>\n",
       "    </tr>\n",
       "    <tr>\n",
       "      <th>Foam</th>\n",
       "      <td>14.91</td>\n",
       "      <td>6.47</td>\n",
       "      <td>3.11</td>\n",
       "      <td>1.04</td>\n",
       "    </tr>\n",
       "    <tr>\n",
       "      <th rowspan=\"2\" valign=\"top\">Open</th>\n",
       "      <th>Firm</th>\n",
       "      <td>2.57</td>\n",
       "      <td>2.89</td>\n",
       "      <td>0.87</td>\n",
       "      <td>0.31</td>\n",
       "    </tr>\n",
       "    <tr>\n",
       "      <th>Foam</th>\n",
       "      <td>12.59</td>\n",
       "      <td>6.07</td>\n",
       "      <td>2.34</td>\n",
       "      <td>0.68</td>\n",
       "    </tr>\n",
       "  </tbody>\n",
       "</table>\n",
       "</div>"
      ],
      "text/plain": [
       "               COParea       COPvelo      \n",
       "                  mean   std    mean   std\n",
       "Vision Surface                            \n",
       "Closed Firm       2.92  2.94    0.96  0.39\n",
       "       Foam      14.91  6.47    3.11  1.04\n",
       "Open   Firm       2.57  2.89    0.87  0.31\n",
       "       Foam      12.59  6.07    2.34  0.68"
      ]
     },
     "execution_count": 7,
     "metadata": {},
     "output_type": "execute_result"
    }
   ],
   "source": [
    "print('Mean and standard-deviation values of the COParea and COPvelo variables for the young adults without disability:')\n",
    "data = BDSinfo[(BDSinfo.AgeGroup=='Young') & (BDSinfo.Disability=='No')]\n",
    "data.groupby(['Vision', 'Surface'])['COParea', 'COPvelo'].agg([np.mean, np.std])"
   ]
  },
  {
   "cell_type": "markdown",
   "metadata": {},
   "source": [
    "And we can also plot the data.  \n",
    "For example, consider the case for plotting the data of a certain subject versus the other subjects. Let's create a function for that:"
   ]
  },
  {
   "cell_type": "code",
   "execution_count": 8,
   "metadata": {
    "collapsed": false
   },
   "outputs": [],
   "source": [
    "def bdb_plot_barplot(data, sel, var='COParea', ylabel='Area ( cm$^2$)',\n",
    "                     estimator=np.median, ci=95, ax=None, legend=None, sel_lege=True):\n",
    "    '''\n",
    "    Auxiliary plotting function to plot summary statistics of the Balance data set project.\n",
    "    '''\n",
    "    \n",
    "    palette = {'Open': [.8, .8, .9], 'Closed': [.4, .4, .9]}\n",
    "    axi = sns.barplot(x=\"Surface\", y=var, hue=\"Vision\", order=['Firm', 'Foam'], data=data, ci=ci,\n",
    "                       hue_order=['Open', 'Closed'], estimator=estimator, palette=palette, ax=ax)\n",
    "    if ylabel:\n",
    "        ax.set_ylabel(ylabel)\n",
    "    if legend:\n",
    "        axi.legend(title='Eyes', loc='best')\n",
    "    else:\n",
    "        ax.legend('')\n",
    "    # get the x,y values of the confidence intervals:\n",
    "    xyci = []\n",
    "    for ch in axi.get_children():\n",
    "        if isinstance(ch, matplotlib.lines.Line2D):\n",
    "            xyci.append(ch.get_data())\n",
    "    if sel is not None:\n",
    "        median = sel.groupby(['Vision', 'Surface'])['COParea', 'COPvelo'].agg(estimator)\n",
    "        axi.plot(xyci[0][0][0], median[var]['Open']['Firm'], marker='o', color='r', markersize=10, label='Subject')\n",
    "        axi.plot(xyci[2][0][0], median[var]['Closed']['Firm'], marker='o', color='r', markersize=10)\n",
    "        axi.plot(xyci[1][0][0], median[var]['Open']['Foam'], marker='o', color='r', markersize=10)\n",
    "        axi.plot(xyci[3][0][0], median[var]['Closed']['Foam'], marker='o', color='r', markersize=10)  \n",
    "        x = axi.get_xlim()[0] + .05*(axi.get_xlim()[1]-axi.get_xlim()[0])\n",
    "        y = axi.get_ylim()[0] + .9*(axi.get_ylim()[1]-axi.get_ylim()[0])\n",
    "        x2 = axi.get_xlim()[0] + .1*(axi.get_xlim()[1]-axi.get_xlim()[0])\n",
    "        y2 = axi.get_ylim()[0] + .88*(axi.get_ylim()[1]-axi.get_ylim()[0])\n",
    "        if sel_lege:\n",
    "            axi.plot(x, y, marker='o', color='r', markersize=10)\n",
    "            axi.text(x2, y2, 'Subject', fontsize=14)\n",
    "        \n",
    "    return ax, xyci"
   ]
  },
  {
   "cell_type": "markdown",
   "metadata": {},
   "source": [
    "Example of data selection and the plot:"
   ]
  },
  {
   "cell_type": "code",
   "execution_count": 9,
   "metadata": {
    "collapsed": true
   },
   "outputs": [],
   "source": [
    "# Select data from young adults without disability:\n",
    "sel = BDSinfo[(BDSinfo.AgeGroup=='Young') & (BDSinfo.Disability=='No')]\n",
    "# Select data of subject 1:\n",
    "sel2 = BDSinfo[BDSinfo.Subject==1]"
   ]
  },
  {
   "cell_type": "code",
   "execution_count": 10,
   "metadata": {
    "collapsed": false
   },
   "outputs": [
    {
     "data": {
      "image/png": "[encoded data removed]",
      "text/plain": [
       "<matplotlib.figure.Figure at 0x1e27ad3dcc0>"
      ]
     },
     "metadata": {},
     "output_type": "display_data"
    }
   ],
   "source": [
    "fig, ax = plt.subplots(1, 2, figsize=(10, 4))\n",
    "axa, xycia = bdb_plot_barplot(data=sel, sel=sel2, var='COParea', ylabel='Area (cm$^2$)', ax=ax[0],\n",
    "                             legend=True, sel_lege=False)\n",
    "axs, xycis = bdb_plot_barplot(data=sel, sel=sel2, var='COPvelo', ylabel='Speed (cm/s)', ax=ax[1])\n",
    "plt.tight_layout()\n",
    "plt.suptitle('Balance evaluation of subject 1', fontsize=16, y=1.03)\n",
    "plt.show()"
   ]
  },
  {
   "cell_type": "markdown",
   "metadata": {},
   "source": [
    "## Jupyter widget for data selection"
   ]
  },
  {
   "cell_type": "markdown",
   "metadata": {},
   "source": [
    "With [Jupyter widgets](https://github.com/ipython/ipywidgets) we can create widgects for data selection.  \n",
    "The Jupyter widgets will not appear on the static version of this notebook (if you seeing this notebook from GitHub), you will have to run this notebook for actually seeing the widgets."
   ]
  },
  {
   "cell_type": "code",
   "execution_count": 11,
   "metadata": {
    "collapsed": false
   },
   "outputs": [],
   "source": [
    "subjects = np.hstack(('All subjects', np.sort(pd.unique(BDSinfo.Subject))))\n",
    "ages = np.hstack(('All ages', pd.unique(BDSinfo.AgeGroup)))\n",
    "genders = np.hstack(('All genders', pd.unique(BDSinfo.Gender)))\n",
    "disability = np.hstack(('All conditions', pd.unique(BDSinfo.Disability)))\n",
    "illness = np.hstack(('All conditions', pd.unique(BDSinfo.Illness)))\n",
    "visions = np.hstack(('All visions', pd.unique(BDSinfo.Vision)))\n",
    "surfaces = np.hstack(('All surfaces', pd.unique(BDSinfo.Surface)))\n",
    "\n",
    "wsubjects = ipywidgets.Dropdown(options=list(subjects), value='All subjects', description='Subjects', width=300, margin=2)\n",
    "wages = ipywidgets.Dropdown(options=list(ages), value='All ages', description='Ages', width=300, margin=2)\n",
    "wgenders = ipywidgets.Dropdown(options=list(genders), value='All genders', description='Genders', width=300, margin=2)\n",
    "wdisabilitys = ipywidgets.Dropdown(options=list(disability), value='All conditions', description='Disabilities',\n",
    "                                   width=300, margin=2)\n",
    "willness = ipywidgets.Dropdown(options=list(illness), value='All conditions', description='Illness', width=300, margin=2)\n",
    "wvisions = ipywidgets.Dropdown(options=list(visions), value='All visions', description='Visions', width=300, margin=2)\n",
    "wsurfaces = ipywidgets.Dropdown(options=list(surfaces), value='All surfaces', description='Surfaces', width=300, margin=2)\n",
    "t1 = ipywidgets.HTML(value=\"<b>Trials selection for the database:</b>\")\n",
    "trial_sel = ipywidgets.VBox(children=[t1, wsubjects, wgenders, wages, wdisabilitys, willness, wvisions, wsurfaces])\n",
    "\n",
    "wsubjects2 = ipywidgets.Dropdown(options=list(subjects), value='All subjects', description='Subjects', width=300, margin=2)\n",
    "wages2 = ipywidgets.Dropdown(options=list(ages), value='All ages', description='Ages', width=300, margin=2)\n",
    "wgenders2 = ipywidgets.Dropdown(options=list(genders), value='All genders', description='Genders', width=300, margin=2)\n",
    "wdisabilitys2 = ipywidgets.Dropdown(options=list(disability), value='All conditions', description='Disabilities', \n",
    "                                    width=300, margin=2)\n",
    "willness2 = ipywidgets.Dropdown(options=list(illness), value='All conditions', description='Illness', width=300, margin=2)\n",
    "wvisions2 = ipywidgets.Dropdown(options=list(visions), value='All visions', description='Visions', width=300, margin=2)\n",
    "wsurfaces2 = ipywidgets.Dropdown(options=list(surfaces), value='All surfaces', description='Surfaces', width=300, margin=2)\n",
    "t2 = ipywidgets.HTML(value=\"<b>Trials selection for the comparison:</b>\")\n",
    "trial_sel2 = ipywidgets.VBox(children=[t2, wsubjects2, wgenders2, wages2, wdisabilitys2, willness2, wvisions2, wsurfaces2])\n",
    "\n",
    "container = ipywidgets.HBox(children=[trial_sel, trial_sel2])\n",
    "container.border_color = '#F2F2F2'\n",
    "container.border_width = 2\n",
    "container.background_color = '#F2F2F2'\n",
    "display(container)"
   ]
  },
  {
   "cell_type": "markdown",
   "metadata": {},
   "source": [
    "## Summary results for selected data"
   ]
  },
  {
   "cell_type": "code",
   "execution_count": 12,
   "metadata": {
    "collapsed": false
   },
   "outputs": [
    {
     "name": "stdout",
     "output_type": "stream",
     "text": [
      "83 subjects selected.\n",
      "64 subjects selected.\n"
     ]
    },
    {
     "data": {
      "text/html": [
       "<div>\n",
       "<table border=\"1\" class=\"dataframe\">\n",
       "  <thead>\n",
       "    <tr style=\"text-align: right;\">\n",
       "      <th></th>\n",
       "      <th></th>\n",
       "      <th>COParea</th>\n",
       "      <th>COPvelo</th>\n",
       "    </tr>\n",
       "    <tr>\n",
       "      <th>Vision</th>\n",
       "      <th>Surface</th>\n",
       "      <th></th>\n",
       "      <th></th>\n",
       "    </tr>\n",
       "  </thead>\n",
       "  <tbody>\n",
       "    <tr>\n",
       "      <th rowspan=\"2\" valign=\"top\">Closed</th>\n",
       "      <th>Firm</th>\n",
       "      <td>2.19</td>\n",
       "      <td>1.08</td>\n",
       "    </tr>\n",
       "    <tr>\n",
       "      <th>Foam</th>\n",
       "      <td>22.91</td>\n",
       "      <td>4.12</td>\n",
       "    </tr>\n",
       "    <tr>\n",
       "      <th rowspan=\"2\" valign=\"top\">Open</th>\n",
       "      <th>Firm</th>\n",
       "      <td>2.17</td>\n",
       "      <td>1.00</td>\n",
       "    </tr>\n",
       "    <tr>\n",
       "      <th>Foam</th>\n",
       "      <td>18.15</td>\n",
       "      <td>3.50</td>\n",
       "    </tr>\n",
       "  </tbody>\n",
       "</table>\n",
       "</div>"
      ],
      "text/plain": [
       "                COParea  COPvelo\n",
       "Vision Surface                  \n",
       "Closed Firm        2.19     1.08\n",
       "       Foam       22.91     4.12\n",
       "Open   Firm        2.17     1.00\n",
       "       Foam       18.15     3.50"
      ]
     },
     "execution_count": 12,
     "metadata": {},
     "output_type": "execute_result"
    }
   ],
   "source": [
    "subject_sel = list(subjects) if wsubjects.value == 'All subjects' else wsubjects.value\n",
    "subject_sel = BDSinfo['Subject'].map(lambda x: str(x) in subject_sel)\n",
    "gender_sel = ['F', 'M'] if wgenders.value == 'All genders' else wgenders.value\n",
    "gender_sel = BDSinfo['Gender'].map(lambda x: x in gender_sel)\n",
    "if wages.value == 'All ages':\n",
    "    age_sel = BDSinfo['Age'].map(lambda x: x > 0)\n",
    "elif wages.value == 'Young':\n",
    "    age_sel = BDSinfo['Age'].map(lambda x: x < 60)\n",
    "else:\n",
    "    age_sel = BDSinfo['Age'].map(lambda x: x >= 60)\n",
    "disability_sel = ['Yes', 'No'] if wdisabilitys.value == 'All conditions' else wdisabilitys.value\n",
    "disability_sel = BDSinfo['Disability'].map(lambda x: x in disability_sel)\n",
    "illness_sel = ['Yes', 'No'] if willness.value == 'All conditions' else willness.value\n",
    "illness_sel = BDSinfo['Illness'].map(lambda x: x in illness_sel)\n",
    "vision_sel = ['Open', 'Closed'] if wvisions.value == 'All visions' else wvisions.value\n",
    "vision_sel = BDSinfo['Vision'].map(lambda x: x in vision_sel)\n",
    "surface_sel = ['Firm', 'Foam'] if wsurfaces.value == 'All surfaces' else wsurfaces.value\n",
    "surface_sel = BDSinfo['Surface'].map(lambda x: x in surface_sel)\n",
    "sel = BDSinfo[subject_sel & gender_sel & age_sel & illness_sel & disability_sel & vision_sel & surface_sel]\n",
    "print('%s subjects selected.' %len(pd.unique(sel.Subject)))\n",
    "sel.groupby(['Vision', 'Surface'])['COParea', 'COPvelo'].agg(np.median)\n",
    "\n",
    "subject_sel2 = list(subjects) if wsubjects2.value == 'All subjects' else wsubjects2.value\n",
    "subject_sel2 = BDSinfo['Subject'].map(lambda x: str(x) in subject_sel2)\n",
    "gender_sel2 = ['F', 'M'] if wgenders2.value == 'All genders' else wgenders2.value\n",
    "gender_sel2 = BDSinfo['Gender'].map(lambda x: x in gender_sel2)\n",
    "if wages2.value == 'All ages':\n",
    "    age_sel2 = BDSinfo['Age'].map(lambda x: x > 0)\n",
    "elif wages2.value == 'Young':\n",
    "    age_sel2 = BDSinfo['Age'].map(lambda x: x < 60)\n",
    "else:\n",
    "    age_sel2 = BDSinfo['Age'].map(lambda x: x >= 60)\n",
    "disability_sel2 = ['Yes', 'No'] if wdisabilitys2.value == 'All conditions' else wdisabilitys2.value\n",
    "disability_sel2 = BDSinfo['Disability'].map(lambda x: x in disability_sel2)\n",
    "illness_sel2 = ['Yes', 'No'] if willness2.value == 'All conditions' else willness2.value\n",
    "illness_sel2 = BDSinfo['Illness'].map(lambda x: x in illness_sel2)\n",
    "vision_sel2 = ['Open', 'Closed'] if wvisions2.value == 'All visions' else wvisions2.value\n",
    "vision_sel2 = BDSinfo['Vision'].map(lambda x: x in vision_sel2)\n",
    "surface_sel2 = ['Firm', 'Foam'] if wsurfaces2.value == 'All surfaces' else wsurfaces2.value\n",
    "surface_sel2 = BDSinfo['Surface'].map(lambda x: x in surface_sel2)\n",
    "sel2 = BDSinfo[subject_sel2 & gender_sel2 & age_sel2 & illness_sel2 & disability_sel2 & vision_sel2 & surface_sel2]\n",
    "print('%s subjects selected.' %len(pd.unique(sel2.Subject)))\n",
    "sel2.groupby(['Vision', 'Surface'])['COParea', 'COPvelo'].agg(np.median)"
   ]
  },
  {
   "cell_type": "code",
   "execution_count": 13,
   "metadata": {
    "collapsed": false
   },
   "outputs": [
    {
     "data": {
      "image/png": "[encoded data removed]",
      "text/plain": [
       "<matplotlib.figure.Figure at 0x1e27a9f2da0>"
      ]
     },
     "metadata": {},
     "output_type": "display_data"
    }
   ],
   "source": [
    "fig, ax = plt.subplots(1, 2, figsize=(10, 4))\n",
    "axa, xycia = bdb_plot_barplot(data=sel, sel=sel2, var='COParea', ylabel='Area (cm$^2$)', ax=ax[0],\n",
    "                             legend=True, sel_lege=False)\n",
    "axs, xycis = bdb_plot_barplot(data=sel, sel=sel2, var='COPvelo', ylabel='Speed (cm/s)', ax=ax[1])\n",
    "plt.tight_layout()\n",
    "subjects = pd.unique(sel2.Subject)\n",
    "if sel is not None and len(pd.unique(sel.Subject)) == 1:\n",
    "    title = 'Balance evaluation (subject: %s)' %sel['Subject'].iloc[0]\n",
    "else:\n",
    "    title = 'Balance evaluation (%d subjects)' %len(subjects)\n",
    "plt.suptitle(title, fontsize=16, y=1.03)\n",
    "plt.show()"
   ]
  },
  {
   "cell_type": "code",
   "execution_count": null,
   "metadata": {
    "collapsed": true
   },
   "outputs": [],
   "source": []
  }
 ],
 "metadata": {
  "kernelspec": {
   "display_name": "Python 3",
   "language": "python",
   "name": "python3"
  },
  "language_info": {
   "codemirror_mode": {
    "name": "ipython",
    "version": 3
   },
   "file_extension": ".py",
   "mimetype": "text/x-python",
   "name": "python",
   "nbconvert_exporter": "python",
   "pygments_lexer": "ipython3",
   "version": "3.5.1"
  }
 },
 "nbformat": 4,
 "nbformat_minor": 0
}
